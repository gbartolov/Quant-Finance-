{
 "cells": [
  {
   "cell_type": "code",
   "execution_count": null,
   "id": "15906a3b-764e-4d15-bf8d-5587afb4974a",
   "metadata": {
    "tags": []
   },
   "outputs": [],
   "source": [
    "import yfinance as yf\n",
    "import pandas as pd\n",
    "import matplotlib.pyplot as plt\n",
    "import matplotlib.dates as mdates\n",
    "import numpy as np\n",
    "from openbb import obb"
   ]
  },
  {
   "cell_type": "markdown",
   "id": "a0a5e501-30ef-4a21-98df-d6b544962cb4",
   "metadata": {},
   "source": [
    "## EQUITIES"
   ]
  },
  {
   "cell_type": "code",
   "execution_count": null,
   "id": "339982f9-92bd-4f98-8152-4150ce87df5e",
   "metadata": {
    "tags": []
   },
   "outputs": [],
   "source": [
    "# Define the symbols\n",
    "symbols = ['^GSPC', '^IXIC', '^GDAXI', '^FTSE', '^FCHI', '^N225', 'MME=F']  # MME=F is a ICE futures expiring 15/03/2024\n",
    "\n",
    "# Download the data\n",
    "data = yf.download(symbols, start='2023-12-28', end='2024-01-31')\n",
    "\n",
    "# Adjust closing prices and rename columns\n",
    "df = data[\"Adj Close\"].dropna()\n",
    "df.columns = [\"EM\", \"CAC 40\", \"FTSE 100\", \"DAX\", \"SP500\", \"NASDAQ\", \"Nikkei 225\"]\n",
    "\n",
    "# Calculate daily percentage change and drop the first NaN\n",
    "rets = df.pct_change().dropna()\n",
    "\n",
    "# Adding 1 to the percentage changes for cumulative product calculation\n",
    "rets += 1\n",
    "\n",
    "# Set the first row of returns to 1, so when we calculate the cumulative product it starts from 100\n",
    "rets.iloc[0] = 1\n",
    "\n",
    "# Calculate the trajectory by cumulative product and then multiply by 100 to scale from a base of 100\n",
    "trajectory = rets.cumprod() * 100\n"
   ]
  },
  {
   "cell_type": "code",
   "execution_count": null,
   "id": "7cd2930e-b224-4c3b-907c-02e3a7fccb59",
   "metadata": {
    "tags": []
   },
   "outputs": [],
   "source": [
    "performance = pd.DataFrame(((df.iloc[-1]/df.iloc[1])-1)*100)\n",
    "performance.columns = [\"Jan(%)\"]\n",
    "performance[\"YTD(%)\"] = pd.DataFrame(((df.iloc[-1]/df.iloc[1])-1)*100)\n",
    "\n",
    "performance"
   ]
  },
  {
   "cell_type": "code",
   "execution_count": null,
   "id": "344f89d7-21a9-4372-989c-250bbdeb8f8d",
   "metadata": {
    "tags": []
   },
   "outputs": [],
   "source": [
    "# Plot the data\n",
    "plt.figure(figsize=(14, 7))  # Set the figure size\n",
    "\n",
    "\n",
    "for column in trajectory.columns:\n",
    "    plt.plot(trajectory.index, trajectory[column], label=column)\n",
    "    # Determine the last date and value for the column\n",
    "    last_date = trajectory.index[-1]  # Last date in the index\n",
    "    last_value = trajectory[column].iloc[-1]  # Last value for the column\n",
    "    \n",
    "    # Check if the column is NASDAQ or SPX and adjust the vertical position slightly\n",
    "    if column == \"NASDAQ\":\n",
    "        offset = -0.5  # Adjust vertical position down for NASDAQ\n",
    "    elif column == \"SP500\":\n",
    "        offset = 0.5  # Adjust vertical position up for SPX\n",
    "    else:\n",
    "        offset = 0  # No offset for other indices\n",
    "    \n",
    "    # Annotate the last point on each line with an offset if applicable\n",
    "    plt.text(last_date, last_value + offset, f'{column}', fontsize=9, va='center', ha='right')\n",
    "\n",
    "# Set the title and labels\n",
    "plt.title('Index Trajectory Since the Start of the Year', fontsize=16)\n",
    "plt.xlabel('Date', fontsize=14)\n",
    "plt.ylabel('Index Value (Base 100)', fontsize=14)\n",
    "\n",
    "# Improve formatting of the x-axis for dates\n",
    "plt.gca().xaxis.set_major_formatter(mdates.DateFormatter('%Y-%m-%d'))\n",
    "plt.gcf().autofmt_xdate()  # Rotation\n",
    "\n",
    "# Add a legend\n",
    "plt.legend(title='Indices', bbox_to_anchor=(1.05, 1), loc='upper left')\n",
    "\n",
    "# Show grid\n",
    "plt.grid(True)\n",
    "\n",
    "# Adjust layout and show plot\n",
    "plt.tight_layout()\n",
    "plt.show()"
   ]
  },
  {
   "cell_type": "markdown",
   "id": "f747ea62-d2b7-4291-ab22-2346e82ad64c",
   "metadata": {},
   "source": [
    "## FIXED INCOME"
   ]
  },
  {
   "cell_type": "code",
   "execution_count": null,
   "id": "dfe7c302-6120-492e-bcfc-cca4a025f1b2",
   "metadata": {
    "tags": []
   },
   "outputs": [],
   "source": [
    "\n",
    "# Fetching and cleaning Treasury rates\n",
    "rates = obb.fixedincome.government.treasury_rates(start_date=\"2023-12-29\", end_date=\"2024-01-30\").to_df().dropna()\n",
    "\n",
    "# Selecting specific dates and transposing for comparison\n",
    "us_rates = rates.loc[['2023-12-29', '2024-01-30']].T\n",
    "\n",
    "# EU rates data for comparison\n",
    "eu_data = {\n",
    "    \n",
    "    'Dec_23': [3.652, 3.595, 3.606, 3.194, 2.402, 2.324, 1.949, 1.941, 2.031, 2.314, 2.279],\n",
    "    'Jan_24': [3.859, 3.736, 3.603, 3.157, 2.422, 2.209, 2.057, 2.042, 2.168, 2.449, 2.401]\n",
    "}\n",
    "eu_rates = pd.DataFrame(eu_data, index=us_rates.index)\n",
    "eu_rates['MΔ'] = eu_rates['Jan_24'] - eu_rates['Dec_23']\n",
    "\n",
    "# Matching US rates format for comparison\n",
    "us_rates['Change'] = us_rates['2024-01-30'] - us_rates['2023-12-29']\n",
    "us_rates.columns = ['Dec_23', 'Jan_24', 'MΔ']\n"
   ]
  },
  {
   "cell_type": "code",
   "execution_count": null,
   "id": "1ae051ca-699d-4a0a-a2d9-f50fd691cf8c",
   "metadata": {
    "tags": []
   },
   "outputs": [],
   "source": [
    "eu_rates"
   ]
  },
  {
   "cell_type": "code",
   "execution_count": null,
   "id": "e4814d94-0b4e-4297-a146-cb04765f0ed4",
   "metadata": {
    "tags": []
   },
   "outputs": [],
   "source": [
    "us_rates"
   ]
  },
  {
   "cell_type": "code",
   "execution_count": null,
   "id": "19dfd7ba-7a5f-484a-b301-8812c2a86323",
   "metadata": {
    "tags": []
   },
   "outputs": [],
   "source": [
    "\n",
    "# Create a figure and a set of subplots\n",
    "fig, (ax1, ax2) = plt.subplots(2, 1, figsize=(10, 8), sharex=True)\n",
    "\n",
    "# Plot Dec_23 and Jan_24 on the first subplot\n",
    "ax1.plot(us_rates.index, us_rates['Dec_23'], marker='o', label='Dec 2023')\n",
    "ax1.plot(us_rates.index, us_rates['Jan_24'], marker='o', label='Jan 2024')\n",
    "ax1.set_title('US Yield Curve')\n",
    "ax1.set_ylabel('Yield (%)')\n",
    "ax1.legend()\n",
    "ax1.grid(True)\n",
    "\n",
    "# Plot MΔ on the second subplot\n",
    "ax2.plot(us_rates.index, us_rates['MΔ'], marker='o', color='red', label='Monthly Change')\n",
    "ax2.axhline(0, color='black', linewidth=0.5)  # Add a horizontal line at 0 for reference\n",
    "ax2.set_title('Monthly Change (Δ)')\n",
    "ax2.set_ylabel('Change (%)')\n",
    "ax2.set_xlabel('Maturity')\n",
    "ax2.legend()\n",
    "ax2.grid(True)\n",
    "\n",
    "plt.xticks(rotation=45)  # Rotate x-axis labels for better readability\n",
    "plt.tight_layout()  # Adjust layout\n",
    "plt.show()\n"
   ]
  },
  {
   "cell_type": "code",
   "execution_count": null,
   "id": "28919d1e-628a-4aa5-b1d0-a60c7d5ab31f",
   "metadata": {
    "tags": []
   },
   "outputs": [],
   "source": [
    "\n",
    "# Create a figure and a set of subplots\n",
    "fig, (ax1, ax2) = plt.subplots(2, 1, figsize=(10, 8), sharex=True)\n",
    "\n",
    "# Plot Dec_23 and Jan_24 on the first subplot\n",
    "ax1.plot(eu_rates.index, eu_rates['Dec_23'], marker='o', label='Dec 2023')\n",
    "ax1.plot(eu_rates.index, eu_rates['Jan_24'], marker='o', label='Jan 2024')\n",
    "ax1.set_title('EU Yield Curve')\n",
    "ax1.set_ylabel('Yield (%)')\n",
    "ax1.legend()\n",
    "ax1.grid(True)\n",
    "\n",
    "# Plot MΔ on the second subplot\n",
    "ax2.plot(eu_rates.index, eu_rates['MΔ'], marker='o', color='red', label='Monthly Change')\n",
    "ax2.axhline(0, color='black', linewidth=0.5)  # Add a horizontal line at 0 for reference\n",
    "ax2.set_title('Monthly Change (Δ)')\n",
    "ax2.set_ylabel('Change')\n",
    "ax2.set_xlabel('Maturity')\n",
    "ax2.legend()\n",
    "ax2.grid(True)\n",
    "\n",
    "plt.xticks(rotation=45)  # Rotate x-axis labels for better readability\n",
    "plt.tight_layout()  # Adjust layout\n",
    "plt.show()\n"
   ]
  },
  {
   "cell_type": "markdown",
   "id": "623c4b0d-6235-4203-b22c-ecb4bdc12358",
   "metadata": {},
   "source": [
    "## SPREAD"
   ]
  },
  {
   "cell_type": "code",
   "execution_count": null,
   "id": "bf74306f-175f-4625-b2f1-ea12c472fb19",
   "metadata": {
    "tags": []
   },
   "outputs": [],
   "source": [
    "# Calculating spread between US and EU\n",
    "spread = (us_rates-eu_rates)*100\n",
    "\n",
    "# Naming columns\n",
    "spread.columns = [\"Dec_23(bps)\", \"Jan_24(bps)\", \"MΔ(bps)\"]\n",
    "\n",
    "spread"
   ]
  },
  {
   "cell_type": "code",
   "execution_count": null,
   "id": "419cd9f3-a2c3-4941-a07f-b1008f405b37",
   "metadata": {
    "tags": []
   },
   "outputs": [],
   "source": [
    "\n",
    "# Create a figure and a set of subplots\n",
    "fig, (ax1, ax2) = plt.subplots(2, 1, figsize=(10, 8), sharex=True)\n",
    "\n",
    "# Plot Dec_23 and Jan_24 on the first subplot\n",
    "ax1.plot(spread.index, spread['Dec_23(bps)'], marker='o', label='Dec 2023')\n",
    "ax1.plot(spread.index, spread['Jan_24(bps)'], marker='o', label='Jan 2024')\n",
    "ax1.set_title('Spread US-EU')\n",
    "ax1.set_ylabel('Spread(bps)')\n",
    "ax1.legend()\n",
    "ax1.grid(True)\n",
    "\n",
    "# Plot MΔ on the second subplot\n",
    "ax2.plot(spread.index, spread['MΔ(bps)'], marker='o', color='red', label='Monthly Change')\n",
    "ax2.axhline(0, color='black', linewidth=0.5)  # Add a horizontal line at 0 for reference\n",
    "ax2.set_title('Monthly Change (Δ)')\n",
    "ax2.set_ylabel('Change(bps)')\n",
    "ax2.set_xlabel('Maturity')\n",
    "ax2.legend()\n",
    "ax2.grid(True)\n",
    "\n",
    "plt.xticks(rotation=45)  # Rotate x-axis labels for better readability\n",
    "plt.tight_layout()  # Adjust layout\n",
    "plt.show()\n"
   ]
  },
  {
   "cell_type": "markdown",
   "id": "485b697f-b4a4-4774-91f2-e12635446363",
   "metadata": {
    "tags": []
   },
   "source": [
    "## FX"
   ]
  },
  {
   "cell_type": "code",
   "execution_count": null,
   "id": "4f2d5acc-c0c2-4c4d-88ad-1350d22a26d7",
   "metadata": {
    "tags": []
   },
   "outputs": [],
   "source": [
    "# Define the symbols for FX\n",
    "symbols_fx = ['EURCHF=X', 'EURUSD=X', 'EURJPY=X']  \n",
    "\n",
    "# Download the data\n",
    "data_fx = yf.download(symbols_fx, start='2023-12-28', end='2024-01-31')\n",
    "\n",
    "# Adjust closing prices and rename columns\n",
    "fx = data_fx[\"Adj Close\"].dropna()\n",
    "fx.columns = [\"EURCHF\", \"EURJPY\", \"EURUSD\"]\n",
    "\n",
    "# Calculate daily percentage change and drop the first NaN\n",
    "rets_fx = fx.pct_change().dropna()\n",
    "\n",
    "# Adding 1 to the percentage changes for cumulative product calculation\n",
    "rets_fx += 1\n",
    "\n",
    "# Set the first row of returns to 1, so when we calculate the cumulative product it starts from 100\n",
    "rets_fx.iloc[0] = 1\n",
    "\n",
    "# Calculate the trajectory by cumulative product and then multiply by 100 to scale from a base of 100\n",
    "trajectory_fx = rets_fx.cumprod() * 100\n"
   ]
  },
  {
   "cell_type": "code",
   "execution_count": null,
   "id": "45708b6c-2752-4fc1-ab4d-d6847f3240e9",
   "metadata": {
    "tags": []
   },
   "outputs": [],
   "source": [
    "performance_fx = pd.DataFrame(((fx.iloc[-1]/fx.iloc[1])-1)*100)\n",
    "performance_fx.columns = [\"Jan(%)\"]\n",
    "performance_fx[\"YTD(%)\"] = pd.DataFrame(((fx.iloc[-1]/fx.iloc[1])-1)*100)\n",
    "\n",
    "performance_fx.round(2)"
   ]
  },
  {
   "cell_type": "code",
   "execution_count": null,
   "id": "f7d449db-9277-41a8-a7bd-d21ae839c9a1",
   "metadata": {
    "tags": []
   },
   "outputs": [],
   "source": [
    "# Plot the data\n",
    "plt.figure(figsize=(14, 7))  # Set the figure size\n",
    "\n",
    "\n",
    "for column in trajectory_fx.columns:\n",
    "    plt.plot(trajectory_fx.index, trajectory_fx[column], label=column)\n",
    "    # Determine the last date and value for the column\n",
    "    last_date = trajectory_fx.index[-1]  # Last date in the index\n",
    "    last_value = trajectory_fx[column].iloc[-1]  # Last value for the column\n",
    "    \n",
    "    # Annotate the last point on each line with an offset if applicable\n",
    "    plt.text(last_date, last_value + offset, f'{column}', fontsize=9, va='center', ha='right')\n",
    "\n",
    "# Set the title and labels\n",
    "plt.title('FX Trajectory Since the Start of the Year', fontsize=16)\n",
    "plt.xlabel('Date', fontsize=14)\n",
    "plt.ylabel('Index Value (Base 100)', fontsize=14)\n",
    "\n",
    "# Improve formatting of the x-axis for dates\n",
    "plt.gca().xaxis.set_major_formatter(mdates.DateFormatter('%Y-%m-%d'))\n",
    "plt.gcf().autofmt_xdate()  # Rotation\n",
    "\n",
    "# Add a legend\n",
    "plt.legend(title='FX', bbox_to_anchor=(1.05, 1), loc='upper left')\n",
    "\n",
    "# Show grid\n",
    "plt.grid(True)\n",
    "\n",
    "# Adjust layout and show plot\n",
    "plt.tight_layout()\n",
    "plt.show()\n"
   ]
  },
  {
   "cell_type": "code",
   "execution_count": null,
   "id": "84c6aa02-028a-4a9b-9bc5-37b0ffbad313",
   "metadata": {},
   "outputs": [],
   "source": []
  }
 ],
 "metadata": {
  "kernelspec": {
   "display_name": "Python 3 (ipykernel)",
   "language": "python",
   "name": "python3"
  },
  "language_info": {
   "codemirror_mode": {
    "name": "ipython",
    "version": 3
   },
   "file_extension": ".py",
   "mimetype": "text/x-python",
   "name": "python",
   "nbconvert_exporter": "python",
   "pygments_lexer": "ipython3",
   "version": "3.11.5"
  }
 },
 "nbformat": 4,
 "nbformat_minor": 5
}
